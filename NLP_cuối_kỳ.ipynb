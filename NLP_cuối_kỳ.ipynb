{
  "cells": [
    {
      "cell_type": "markdown",
      "source": [
        "# Import thư viện"
      ],
      "metadata": {
        "id": "pFH-g5QwlvjO"
      }
    },
    {
      "cell_type": "code",
      "execution_count": null,
      "metadata": {
        "id": "ds2CTEIoNYVK"
      },
      "outputs": [],
      "source": [
        "import pandas as pd\n",
        "import nltk\n",
        "from nltk import tokenize\n",
        "from nltk.stem import WordNetLemmatizer\n",
        "from nltk.corpus import stopwords\n",
        "import string \n",
        "import re\n",
        "from sklearn.feature_extraction.text import TfidfVectorizer\n",
        "from sklearn.model_selection import train_test_split\n",
        "from sklearn.ensemble import AdaBoostClassifier\n",
        "from sklearn.metrics import accuracy_score\n",
        "import seaborn as sbn\n",
        "import numpy as np\n",
        "import matplotlib.pyplot as plt\n",
        "from sklearn.metrics import classification_report\n",
        "from sklearn.metrics import confusion_matrix \n",
        "from sklearn.naive_bayes import GaussianNB, MultinomialNB, BernoulliNB\n",
        "import warnings\n",
        "warnings.filterwarnings('ignore')"
      ]
    },
    {
      "cell_type": "markdown",
      "source": [
        "#Các tài nguyên cần thiết cho nltk"
      ],
      "metadata": {
        "id": "NVY7zRnTl7Cm"
      }
    },
    {
      "cell_type": "code",
      "execution_count": null,
      "metadata": {
        "colab": {
          "base_uri": "https://localhost:8080/"
        },
        "id": "noRo15VVN7rF",
        "outputId": "b2fcae7d-455f-4944-9872-39e20bc75cd3"
      },
      "outputs": [
        {
          "output_type": "stream",
          "name": "stderr",
          "text": [
            "[nltk_data] Downloading package stopwords to /root/nltk_data...\n",
            "[nltk_data]   Unzipping corpora/stopwords.zip.\n",
            "[nltk_data] Downloading package punkt to /root/nltk_data...\n",
            "[nltk_data]   Unzipping tokenizers/punkt.zip.\n",
            "[nltk_data] Downloading package wordnet to /root/nltk_data...\n",
            "[nltk_data] Downloading package omw-1.4 to /root/nltk_data...\n"
          ]
        },
        {
          "output_type": "execute_result",
          "data": {
            "text/plain": [
              "True"
            ]
          },
          "metadata": {},
          "execution_count": 2
        }
      ],
      "source": [
        "\n",
        "nltk.download('stopwords')\n",
        "nltk.download('punkt')\n",
        "nltk.download('wordnet')\n",
        "nltk.download('omw-1.4')"
      ]
    },
    {
      "cell_type": "markdown",
      "source": [
        "# Tiền Xử lý\n",
        "\n",
        "\n"
      ],
      "metadata": {
        "id": "3f0EWWeCl-ON"
      }
    },
    {
      "cell_type": "markdown",
      "source": [
        "## Xử lý missing value\n",
        "\n",
        "\n",
        "\n"
      ],
      "metadata": {
        "id": "bU-6nOXamAjO"
      }
    },
    {
      "cell_type": "code",
      "execution_count": null,
      "metadata": {
        "id": "aMBnmThf-25B",
        "colab": {
          "base_uri": "https://localhost:8080/",
          "height": 869
        },
        "outputId": "5fb13c47-fcbe-408d-cab5-354758035e98"
      },
      "outputs": [
        {
          "output_type": "execute_result",
          "data": {
            "text/plain": [
              "     churn                                           chat_log state  \\\n",
              "0       no  Customer: I need a voice upgrade. Can you conn...    SC   \n",
              "2       no  Customer: A text upgrade, please.\\r\\nTelCom Ag...    NY   \n",
              "3       no  Customer: I would like to upgrade my contract ...    PA   \n",
              "5       no  Customer: I have a promotional offer of no add...    DC   \n",
              "6       no  Customer: Voice.\\r\\nTelCom Agent: Great! And b...    ND   \n",
              "...    ...                                                ...   ...   \n",
              "3328    no  Customer: I'd like to upgrade to voice.\\r\\nTel...    AK   \n",
              "3329    no  Customer: I have just switched to Verizon and ...    VT   \n",
              "3330    no  Customer: I would like to upgrade my data.\\r\\n...    DE   \n",
              "3331    no  Customer: I would like to upgrade my service t...    ND   \n",
              "3332    no  Customer: I would like to upgrade my voice ser...    CT   \n",
              "\n",
              "      account_length      area_code international_plan voice_mail_plan  \\\n",
              "0                 73  area_code_415                 no              no   \n",
              "2                108  area_code_415                 no             yes   \n",
              "3                101  area_code_415                 no              no   \n",
              "5                139  area_code_510                 no              no   \n",
              "6                 60  area_code_510                 no              no   \n",
              "...              ...            ...                ...             ...   \n",
              "3328              50  area_code_408                 no              no   \n",
              "3329              46  area_code_408                 no              no   \n",
              "3330              12  area_code_415                 no              no   \n",
              "3331             147  area_code_408                 no              no   \n",
              "3332              94  area_code_415                 no              no   \n",
              "\n",
              "      number_vmail_messages  total_day_minutes  total_day_calls  ...  \\\n",
              "0                         0              203.3               45  ...   \n",
              "2                        19              312.4               98  ...   \n",
              "3                         0              206.6              105  ...   \n",
              "5                         0              203.2               81  ...   \n",
              "6                         0              203.2               99  ...   \n",
              "...                     ...                ...              ...  ...   \n",
              "3328                      0              183.6              107  ...   \n",
              "3329                      0              196.7               85  ...   \n",
              "3330                      0              206.1              105  ...   \n",
              "3331                      0              205.3               95  ...   \n",
              "3332                      0              206.1               49  ...   \n",
              "\n",
              "      total_eve_minutes  total_eve_calls  total_eve_charge  \\\n",
              "0                 141.9               87             12.06   \n",
              "2                 271.4              122             23.07   \n",
              "3                 224.9              117             19.12   \n",
              "5                 152.5               99             12.96   \n",
              "6                 235.8              131             20.04   \n",
              "...                 ...              ...               ...   \n",
              "3328               58.6              118              4.98   \n",
              "3329              205.9               74             17.50   \n",
              "3330              246.6              104             20.96   \n",
              "3331              166.7              128             14.17   \n",
              "3332              224.6              115             19.09   \n",
              "\n",
              "      total_night_minutes  total_night_calls  total_night_charge  \\\n",
              "0                   200.7                 71                9.03   \n",
              "2                   162.6                 91                7.32   \n",
              "3                   249.9                100               11.25   \n",
              "5                   197.8                 76                8.90   \n",
              "6                   224.9                112               10.12   \n",
              "...                   ...                ...                 ...   \n",
              "3328                202.6                 99                9.12   \n",
              "3329                216.6                112                9.75   \n",
              "3330                254.6                 83               11.46   \n",
              "3331                240.6                 84               10.83   \n",
              "3332                256.7                 74               11.55   \n",
              "\n",
              "      total_intl_minutes  total_intl_calls  total_intl_charge  \\\n",
              "0                    8.5                 6               2.30   \n",
              "2                   10.1                 6               2.73   \n",
              "3                   14.6                 3               3.94   \n",
              "5                    9.7                 3               2.62   \n",
              "6                   15.1                 6               4.08   \n",
              "...                  ...               ...                ...   \n",
              "3328                 8.7                 3               2.35   \n",
              "3329                11.2                 5               3.02   \n",
              "3330                12.1                 7               3.27   \n",
              "3331                 7.8                 4               2.11   \n",
              "3332                13.0                 1               3.51   \n",
              "\n",
              "      number_customer_service_calls  \n",
              "0                                 0  \n",
              "2                                 0  \n",
              "3                                 0  \n",
              "5                                 2  \n",
              "6                                 2  \n",
              "...                             ...  \n",
              "3328                              1  \n",
              "3329                              3  \n",
              "3330                              2  \n",
              "3331                              1  \n",
              "3332                              1  \n",
              "\n",
              "[2636 rows x 21 columns]"
            ],
            "text/html": [
              "\n",
              "  <div id=\"df-a84eec36-6d87-4d90-8199-1f02e81a3629\">\n",
              "    <div class=\"colab-df-container\">\n",
              "      <div>\n",
              "<style scoped>\n",
              "    .dataframe tbody tr th:only-of-type {\n",
              "        vertical-align: middle;\n",
              "    }\n",
              "\n",
              "    .dataframe tbody tr th {\n",
              "        vertical-align: top;\n",
              "    }\n",
              "\n",
              "    .dataframe thead th {\n",
              "        text-align: right;\n",
              "    }\n",
              "</style>\n",
              "<table border=\"1\" class=\"dataframe\">\n",
              "  <thead>\n",
              "    <tr style=\"text-align: right;\">\n",
              "      <th></th>\n",
              "      <th>churn</th>\n",
              "      <th>chat_log</th>\n",
              "      <th>state</th>\n",
              "      <th>account_length</th>\n",
              "      <th>area_code</th>\n",
              "      <th>international_plan</th>\n",
              "      <th>voice_mail_plan</th>\n",
              "      <th>number_vmail_messages</th>\n",
              "      <th>total_day_minutes</th>\n",
              "      <th>total_day_calls</th>\n",
              "      <th>...</th>\n",
              "      <th>total_eve_minutes</th>\n",
              "      <th>total_eve_calls</th>\n",
              "      <th>total_eve_charge</th>\n",
              "      <th>total_night_minutes</th>\n",
              "      <th>total_night_calls</th>\n",
              "      <th>total_night_charge</th>\n",
              "      <th>total_intl_minutes</th>\n",
              "      <th>total_intl_calls</th>\n",
              "      <th>total_intl_charge</th>\n",
              "      <th>number_customer_service_calls</th>\n",
              "    </tr>\n",
              "  </thead>\n",
              "  <tbody>\n",
              "    <tr>\n",
              "      <th>0</th>\n",
              "      <td>no</td>\n",
              "      <td>Customer: I need a voice upgrade. Can you conn...</td>\n",
              "      <td>SC</td>\n",
              "      <td>73</td>\n",
              "      <td>area_code_415</td>\n",
              "      <td>no</td>\n",
              "      <td>no</td>\n",
              "      <td>0</td>\n",
              "      <td>203.3</td>\n",
              "      <td>45</td>\n",
              "      <td>...</td>\n",
              "      <td>141.9</td>\n",
              "      <td>87</td>\n",
              "      <td>12.06</td>\n",
              "      <td>200.7</td>\n",
              "      <td>71</td>\n",
              "      <td>9.03</td>\n",
              "      <td>8.5</td>\n",
              "      <td>6</td>\n",
              "      <td>2.30</td>\n",
              "      <td>0</td>\n",
              "    </tr>\n",
              "    <tr>\n",
              "      <th>2</th>\n",
              "      <td>no</td>\n",
              "      <td>Customer: A text upgrade, please.\\r\\nTelCom Ag...</td>\n",
              "      <td>NY</td>\n",
              "      <td>108</td>\n",
              "      <td>area_code_415</td>\n",
              "      <td>no</td>\n",
              "      <td>yes</td>\n",
              "      <td>19</td>\n",
              "      <td>312.4</td>\n",
              "      <td>98</td>\n",
              "      <td>...</td>\n",
              "      <td>271.4</td>\n",
              "      <td>122</td>\n",
              "      <td>23.07</td>\n",
              "      <td>162.6</td>\n",
              "      <td>91</td>\n",
              "      <td>7.32</td>\n",
              "      <td>10.1</td>\n",
              "      <td>6</td>\n",
              "      <td>2.73</td>\n",
              "      <td>0</td>\n",
              "    </tr>\n",
              "    <tr>\n",
              "      <th>3</th>\n",
              "      <td>no</td>\n",
              "      <td>Customer: I would like to upgrade my contract ...</td>\n",
              "      <td>PA</td>\n",
              "      <td>101</td>\n",
              "      <td>area_code_415</td>\n",
              "      <td>no</td>\n",
              "      <td>no</td>\n",
              "      <td>0</td>\n",
              "      <td>206.6</td>\n",
              "      <td>105</td>\n",
              "      <td>...</td>\n",
              "      <td>224.9</td>\n",
              "      <td>117</td>\n",
              "      <td>19.12</td>\n",
              "      <td>249.9</td>\n",
              "      <td>100</td>\n",
              "      <td>11.25</td>\n",
              "      <td>14.6</td>\n",
              "      <td>3</td>\n",
              "      <td>3.94</td>\n",
              "      <td>0</td>\n",
              "    </tr>\n",
              "    <tr>\n",
              "      <th>5</th>\n",
              "      <td>no</td>\n",
              "      <td>Customer: I have a promotional offer of no add...</td>\n",
              "      <td>DC</td>\n",
              "      <td>139</td>\n",
              "      <td>area_code_510</td>\n",
              "      <td>no</td>\n",
              "      <td>no</td>\n",
              "      <td>0</td>\n",
              "      <td>203.2</td>\n",
              "      <td>81</td>\n",
              "      <td>...</td>\n",
              "      <td>152.5</td>\n",
              "      <td>99</td>\n",
              "      <td>12.96</td>\n",
              "      <td>197.8</td>\n",
              "      <td>76</td>\n",
              "      <td>8.90</td>\n",
              "      <td>9.7</td>\n",
              "      <td>3</td>\n",
              "      <td>2.62</td>\n",
              "      <td>2</td>\n",
              "    </tr>\n",
              "    <tr>\n",
              "      <th>6</th>\n",
              "      <td>no</td>\n",
              "      <td>Customer: Voice.\\r\\nTelCom Agent: Great! And b...</td>\n",
              "      <td>ND</td>\n",
              "      <td>60</td>\n",
              "      <td>area_code_510</td>\n",
              "      <td>no</td>\n",
              "      <td>no</td>\n",
              "      <td>0</td>\n",
              "      <td>203.2</td>\n",
              "      <td>99</td>\n",
              "      <td>...</td>\n",
              "      <td>235.8</td>\n",
              "      <td>131</td>\n",
              "      <td>20.04</td>\n",
              "      <td>224.9</td>\n",
              "      <td>112</td>\n",
              "      <td>10.12</td>\n",
              "      <td>15.1</td>\n",
              "      <td>6</td>\n",
              "      <td>4.08</td>\n",
              "      <td>2</td>\n",
              "    </tr>\n",
              "    <tr>\n",
              "      <th>...</th>\n",
              "      <td>...</td>\n",
              "      <td>...</td>\n",
              "      <td>...</td>\n",
              "      <td>...</td>\n",
              "      <td>...</td>\n",
              "      <td>...</td>\n",
              "      <td>...</td>\n",
              "      <td>...</td>\n",
              "      <td>...</td>\n",
              "      <td>...</td>\n",
              "      <td>...</td>\n",
              "      <td>...</td>\n",
              "      <td>...</td>\n",
              "      <td>...</td>\n",
              "      <td>...</td>\n",
              "      <td>...</td>\n",
              "      <td>...</td>\n",
              "      <td>...</td>\n",
              "      <td>...</td>\n",
              "      <td>...</td>\n",
              "      <td>...</td>\n",
              "    </tr>\n",
              "    <tr>\n",
              "      <th>3328</th>\n",
              "      <td>no</td>\n",
              "      <td>Customer: I'd like to upgrade to voice.\\r\\nTel...</td>\n",
              "      <td>AK</td>\n",
              "      <td>50</td>\n",
              "      <td>area_code_408</td>\n",
              "      <td>no</td>\n",
              "      <td>no</td>\n",
              "      <td>0</td>\n",
              "      <td>183.6</td>\n",
              "      <td>107</td>\n",
              "      <td>...</td>\n",
              "      <td>58.6</td>\n",
              "      <td>118</td>\n",
              "      <td>4.98</td>\n",
              "      <td>202.6</td>\n",
              "      <td>99</td>\n",
              "      <td>9.12</td>\n",
              "      <td>8.7</td>\n",
              "      <td>3</td>\n",
              "      <td>2.35</td>\n",
              "      <td>1</td>\n",
              "    </tr>\n",
              "    <tr>\n",
              "      <th>3329</th>\n",
              "      <td>no</td>\n",
              "      <td>Customer: I have just switched to Verizon and ...</td>\n",
              "      <td>VT</td>\n",
              "      <td>46</td>\n",
              "      <td>area_code_408</td>\n",
              "      <td>no</td>\n",
              "      <td>no</td>\n",
              "      <td>0</td>\n",
              "      <td>196.7</td>\n",
              "      <td>85</td>\n",
              "      <td>...</td>\n",
              "      <td>205.9</td>\n",
              "      <td>74</td>\n",
              "      <td>17.50</td>\n",
              "      <td>216.6</td>\n",
              "      <td>112</td>\n",
              "      <td>9.75</td>\n",
              "      <td>11.2</td>\n",
              "      <td>5</td>\n",
              "      <td>3.02</td>\n",
              "      <td>3</td>\n",
              "    </tr>\n",
              "    <tr>\n",
              "      <th>3330</th>\n",
              "      <td>no</td>\n",
              "      <td>Customer: I would like to upgrade my data.\\r\\n...</td>\n",
              "      <td>DE</td>\n",
              "      <td>12</td>\n",
              "      <td>area_code_415</td>\n",
              "      <td>no</td>\n",
              "      <td>no</td>\n",
              "      <td>0</td>\n",
              "      <td>206.1</td>\n",
              "      <td>105</td>\n",
              "      <td>...</td>\n",
              "      <td>246.6</td>\n",
              "      <td>104</td>\n",
              "      <td>20.96</td>\n",
              "      <td>254.6</td>\n",
              "      <td>83</td>\n",
              "      <td>11.46</td>\n",
              "      <td>12.1</td>\n",
              "      <td>7</td>\n",
              "      <td>3.27</td>\n",
              "      <td>2</td>\n",
              "    </tr>\n",
              "    <tr>\n",
              "      <th>3331</th>\n",
              "      <td>no</td>\n",
              "      <td>Customer: I would like to upgrade my service t...</td>\n",
              "      <td>ND</td>\n",
              "      <td>147</td>\n",
              "      <td>area_code_408</td>\n",
              "      <td>no</td>\n",
              "      <td>no</td>\n",
              "      <td>0</td>\n",
              "      <td>205.3</td>\n",
              "      <td>95</td>\n",
              "      <td>...</td>\n",
              "      <td>166.7</td>\n",
              "      <td>128</td>\n",
              "      <td>14.17</td>\n",
              "      <td>240.6</td>\n",
              "      <td>84</td>\n",
              "      <td>10.83</td>\n",
              "      <td>7.8</td>\n",
              "      <td>4</td>\n",
              "      <td>2.11</td>\n",
              "      <td>1</td>\n",
              "    </tr>\n",
              "    <tr>\n",
              "      <th>3332</th>\n",
              "      <td>no</td>\n",
              "      <td>Customer: I would like to upgrade my voice ser...</td>\n",
              "      <td>CT</td>\n",
              "      <td>94</td>\n",
              "      <td>area_code_415</td>\n",
              "      <td>no</td>\n",
              "      <td>no</td>\n",
              "      <td>0</td>\n",
              "      <td>206.1</td>\n",
              "      <td>49</td>\n",
              "      <td>...</td>\n",
              "      <td>224.6</td>\n",
              "      <td>115</td>\n",
              "      <td>19.09</td>\n",
              "      <td>256.7</td>\n",
              "      <td>74</td>\n",
              "      <td>11.55</td>\n",
              "      <td>13.0</td>\n",
              "      <td>1</td>\n",
              "      <td>3.51</td>\n",
              "      <td>1</td>\n",
              "    </tr>\n",
              "  </tbody>\n",
              "</table>\n",
              "<p>2636 rows × 21 columns</p>\n",
              "</div>\n",
              "      <button class=\"colab-df-convert\" onclick=\"convertToInteractive('df-a84eec36-6d87-4d90-8199-1f02e81a3629')\"\n",
              "              title=\"Convert this dataframe to an interactive table.\"\n",
              "              style=\"display:none;\">\n",
              "        \n",
              "  <svg xmlns=\"http://www.w3.org/2000/svg\" height=\"24px\"viewBox=\"0 0 24 24\"\n",
              "       width=\"24px\">\n",
              "    <path d=\"M0 0h24v24H0V0z\" fill=\"none\"/>\n",
              "    <path d=\"M18.56 5.44l.94 2.06.94-2.06 2.06-.94-2.06-.94-.94-2.06-.94 2.06-2.06.94zm-11 1L8.5 8.5l.94-2.06 2.06-.94-2.06-.94L8.5 2.5l-.94 2.06-2.06.94zm10 10l.94 2.06.94-2.06 2.06-.94-2.06-.94-.94-2.06-.94 2.06-2.06.94z\"/><path d=\"M17.41 7.96l-1.37-1.37c-.4-.4-.92-.59-1.43-.59-.52 0-1.04.2-1.43.59L10.3 9.45l-7.72 7.72c-.78.78-.78 2.05 0 2.83L4 21.41c.39.39.9.59 1.41.59.51 0 1.02-.2 1.41-.59l7.78-7.78 2.81-2.81c.8-.78.8-2.07 0-2.86zM5.41 20L4 18.59l7.72-7.72 1.47 1.35L5.41 20z\"/>\n",
              "  </svg>\n",
              "      </button>\n",
              "      \n",
              "  <style>\n",
              "    .colab-df-container {\n",
              "      display:flex;\n",
              "      flex-wrap:wrap;\n",
              "      gap: 12px;\n",
              "    }\n",
              "\n",
              "    .colab-df-convert {\n",
              "      background-color: #E8F0FE;\n",
              "      border: none;\n",
              "      border-radius: 50%;\n",
              "      cursor: pointer;\n",
              "      display: none;\n",
              "      fill: #1967D2;\n",
              "      height: 32px;\n",
              "      padding: 0 0 0 0;\n",
              "      width: 32px;\n",
              "    }\n",
              "\n",
              "    .colab-df-convert:hover {\n",
              "      background-color: #E2EBFA;\n",
              "      box-shadow: 0px 1px 2px rgba(60, 64, 67, 0.3), 0px 1px 3px 1px rgba(60, 64, 67, 0.15);\n",
              "      fill: #174EA6;\n",
              "    }\n",
              "\n",
              "    [theme=dark] .colab-df-convert {\n",
              "      background-color: #3B4455;\n",
              "      fill: #D2E3FC;\n",
              "    }\n",
              "\n",
              "    [theme=dark] .colab-df-convert:hover {\n",
              "      background-color: #434B5C;\n",
              "      box-shadow: 0px 1px 3px 1px rgba(0, 0, 0, 0.15);\n",
              "      filter: drop-shadow(0px 1px 2px rgba(0, 0, 0, 0.3));\n",
              "      fill: #FFFFFF;\n",
              "    }\n",
              "  </style>\n",
              "\n",
              "      <script>\n",
              "        const buttonEl =\n",
              "          document.querySelector('#df-a84eec36-6d87-4d90-8199-1f02e81a3629 button.colab-df-convert');\n",
              "        buttonEl.style.display =\n",
              "          google.colab.kernel.accessAllowed ? 'block' : 'none';\n",
              "\n",
              "        async function convertToInteractive(key) {\n",
              "          const element = document.querySelector('#df-a84eec36-6d87-4d90-8199-1f02e81a3629');\n",
              "          const dataTable =\n",
              "            await google.colab.kernel.invokeFunction('convertToInteractive',\n",
              "                                                     [key], {});\n",
              "          if (!dataTable) return;\n",
              "\n",
              "          const docLinkHtml = 'Like what you see? Visit the ' +\n",
              "            '<a target=\"_blank\" href=https://colab.research.google.com/notebooks/data_table.ipynb>data table notebook</a>'\n",
              "            + ' to learn more about interactive tables.';\n",
              "          element.innerHTML = '';\n",
              "          dataTable['output_type'] = 'display_data';\n",
              "          await google.colab.output.renderOutput(dataTable, element);\n",
              "          const docLink = document.createElement('div');\n",
              "          docLink.innerHTML = docLinkHtml;\n",
              "          element.appendChild(docLink);\n",
              "        }\n",
              "      </script>\n",
              "    </div>\n",
              "  </div>\n",
              "  "
            ]
          },
          "metadata": {},
          "execution_count": 3
        }
      ],
      "source": [
        "df = pd.read_csv('churn_dataset.csv')\n",
        "df = df.dropna()\n",
        "df"
      ]
    },
    {
      "cell_type": "code",
      "execution_count": null,
      "metadata": {
        "colab": {
          "base_uri": "https://localhost:8080/",
          "height": 279
        },
        "id": "NlAg0sWHsB1F",
        "outputId": "0bf74321-e8aa-4526-8232-fda120450118"
      },
      "outputs": [
        {
          "output_type": "display_data",
          "data": {
            "text/plain": [
              "<Figure size 432x288 with 1 Axes>"
            ],
            "image/png": "[encoded data removed]"
          },
          "metadata": {
            "needs_background": "light"
          }
        }
      ],
      "source": [
        "sbn.countplot(df['churn'])\n",
        "plt.show()"
      ]
    },
    {
      "cell_type": "markdown",
      "source": [
        "## Làm sạch dữ liệu"
      ],
      "metadata": {
        "id": "p0211DEmmPtD"
      }
    },
    {
      "cell_type": "code",
      "execution_count": null,
      "metadata": {
        "id": "69qsav1XZhHi"
      },
      "outputs": [],
      "source": [
        "def preprocess(text):\n",
        "  lemma = WordNetLemmatizer()\n",
        "  stopwords_english = stopwords.words('english')  #lấy danh sách từ stopword\n",
        "  # đổi từ viết tắt thành chữ thường\n",
        "  text = re.sub(r\"won't\", \"will not\", text)\n",
        "  text = re.sub(r\"can\\'t\", \"can not\", text)\n",
        "  text = re.sub(r\"n\\'t\", \" not\", text)\n",
        "  text = re.sub(r\"\\'re\", \" are\", text)\n",
        "  text = re.sub(r\"\\'s\", \" is\", text)\n",
        "  text = re.sub(r\"\\'d\", \" would\", text)\n",
        "  text = re.sub(r\"\\'ll\", \" will\", text)\n",
        "  text = re.sub(r\"\\'t\", \" not\", text)\n",
        "  text = re.sub(r\"\\'ve\", \" have\", text)\n",
        "  text = re.sub(r\"\\'m\", \" am\", text)\n",
        "\n",
        "\n",
        "  text=re.sub(r'[^\\w]', ' ', text) # xóa ký tự đặc biệt\n",
        "  text = tokenize.word_tokenize(text) # tách từ\n",
        "  new_text=[]\n",
        "  for word in text:\n",
        "    if word not in stopwords_english:\n",
        "\n",
        "      new_text.append(lemma.lemmatize(word.lower())) #chuyển về từ nguyên gốc \n",
        "  sentence=\" \".join(new_text)\n",
        "  return sentence\n"
      ]
    },
    {
      "cell_type": "markdown",
      "source": [
        "Văn bản chưa xử lý "
      ],
      "metadata": {
        "id": "E5rCW-oCj2kR"
      }
    },
    {
      "cell_type": "code",
      "execution_count": null,
      "metadata": {
        "colab": {
          "base_uri": "https://localhost:8080/",
          "height": 147
        },
        "id": "aiPl44mdtn4G",
        "outputId": "1ed37451-d11d-468b-9ab5-422734be47fc"
      },
      "outputs": [
        {
          "output_type": "execute_result",
          "data": {
            "text/plain": [
              "\"Customer: I need a voice upgrade. Can you connect me to someone who can help me?\\r\\nTelCom Agent: Yes, sure, send me some information.\\r\\nCustomer: The only way I can get an upgrade is to upgrade the route from my phone to TelCom's network.\\r\\nTelCom Agent: Sure, I'll send you that information.\\r\\nCustomer: This will take me about 3-4 hours.\\r\\nTelCom Agent: The upgrade will take a couple of days to get to you.\\r\\nTelCom Agent: And how long do you need to leave your home to perform the upgrade?\\r\\nCustomer: 2\""
            ],
            "application/vnd.google.colaboratory.intrinsic+json": {
              "type": "string"
            }
          },
          "metadata": {},
          "execution_count": 6
        }
      ],
      "source": [
        "df['chat_log'][0] "
      ]
    },
    {
      "cell_type": "markdown",
      "source": [
        "Văn bản đã xử lý"
      ],
      "metadata": {
        "id": "KqmIIo0Kj6L4"
      }
    },
    {
      "cell_type": "code",
      "execution_count": null,
      "metadata": {
        "colab": {
          "base_uri": "https://localhost:8080/",
          "height": 110
        },
        "id": "wcpUZF-EzmUP",
        "outputId": "b5cb49b1-9134-4dc4-f1b0-c5e60183fb41"
      },
      "outputs": [
        {
          "output_type": "execute_result",
          "data": {
            "text/plain": [
              "'customer i need voice upgrade can connect someone help telcom agent yes sure send information customer the way i get upgrade upgrade route phone telcom network telcom agent sure i send information customer this take 3 4 hour telcom agent the upgrade take couple day get telcom agent and long need leave home perform upgrade customer 2'"
            ],
            "application/vnd.google.colaboratory.intrinsic+json": {
              "type": "string"
            }
          },
          "metadata": {},
          "execution_count": 7
        }
      ],
      "source": [
        "df['chat_log']=df['chat_log'].apply(preprocess)\n",
        "df['chat_log'][0] "
      ]
    },
    {
      "cell_type": "code",
      "execution_count": null,
      "metadata": {
        "colab": {
          "base_uri": "https://localhost:8080/",
          "height": 383
        },
        "id": "pqf-rx4fJHes",
        "outputId": "56529866-0c41-4f3d-ccda-3550410e0b7e"
      },
      "outputs": [
        {
          "output_type": "display_data",
          "data": {
            "text/plain": [
              "<Figure size 360x360 with 1 Axes>"
            ],
            "image/png": "[encoded data removed]"
          },
          "metadata": {
            "needs_background": "light"
          }
        }
      ],
      "source": [
        "text_len=[len(text) for text in df['chat_log']]\n",
        "sbn.displot(text_len)\n",
        "plt.ylabel('Count')\n",
        "plt.xlabel('Text Count')\n",
        "plt.show()"
      ]
    },
    {
      "cell_type": "markdown",
      "source": [
        "## Chuyển đổi dữ liệu"
      ],
      "metadata": {
        "id": "GV73qw1elrh0"
      }
    },
    {
      "cell_type": "code",
      "execution_count": null,
      "metadata": {
        "id": "UCgOKIVPJBDZ",
        "colab": {
          "base_uri": "https://localhost:8080/"
        },
        "outputId": "f1bd61a4-91ea-4aba-d89f-9bfaa690d983"
      },
      "outputs": [
        {
          "output_type": "execute_result",
          "data": {
            "text/plain": [
              "0     1\n",
              "2     1\n",
              "3     1\n",
              "5     1\n",
              "6     1\n",
              "7     1\n",
              "9     0\n",
              "10    1\n",
              "11    1\n",
              "12    0\n",
              "Name: churn, dtype: int64"
            ]
          },
          "metadata": {},
          "execution_count": 9
        }
      ],
      "source": [
        "label_encoder={'yes':0,'no':1}\n",
        "df['churn']=df['churn'].map(label_encoder) \n",
        "df['churn'].head(10)"
      ]
    },
    {
      "cell_type": "markdown",
      "source": [
        "#Phân lớp dữ liệu"
      ],
      "metadata": {
        "id": "K4w0cSv0nBKo"
      }
    },
    {
      "cell_type": "markdown",
      "source": [
        "##Train , Test sets"
      ],
      "metadata": {
        "id": "GVlHeBqbnFZI"
      }
    },
    {
      "cell_type": "code",
      "source": [
        "words = []\n",
        "for text in df['chat_log']:\n",
        "  for word in text.split():\n",
        "    words.append(word)\n",
        "\n",
        "bag_of_words=set(words)\n",
        "print(len(bag_of_words))"
      ],
      "metadata": {
        "colab": {
          "base_uri": "https://localhost:8080/"
        },
        "id": "Ah2sqFVp1Pc0",
        "outputId": "7d56e402-62f4-4fc8-c6f7-f31b4f89611e"
      },
      "execution_count": null,
      "outputs": [
        {
          "output_type": "stream",
          "name": "stdout",
          "text": [
            "5175\n"
          ]
        }
      ]
    },
    {
      "cell_type": "markdown",
      "source": [
        "Chuyển đổi văn bản thành ma trận theo chiều dài bag_of_word chiều"
      ],
      "metadata": {
        "id": "WDEhZDW3x3EU"
      }
    },
    {
      "cell_type": "code",
      "execution_count": null,
      "metadata": {
        "id": "F_uNGsgTZiM5"
      },
      "outputs": [],
      "source": [
        "vectorizer = TfidfVectorizer(max_features=len(bag_of_words))\n",
        "x = vectorizer.fit_transform(df['chat_log'])\n",
        "y=df['churn']"
      ]
    },
    {
      "cell_type": "code",
      "execution_count": null,
      "metadata": {
        "colab": {
          "base_uri": "https://localhost:8080/"
        },
        "id": "D0nFdgxTZk-5",
        "outputId": "5af950f3-9004-413c-8f5a-b6f1e4e9d918"
      },
      "outputs": [
        {
          "output_type": "stream",
          "name": "stdout",
          "text": [
            "(2108, 5145) (2108,)\n",
            "(528, 5145) (528,)\n"
          ]
        }
      ],
      "source": [
        "# Tách dữ liệu thành tập train , test \n",
        "x_train,x_test,y_train,y_test = train_test_split(x,y,random_state=42,test_size=0.2)\n",
        "\n",
        "print(x_train.shape, y_train.shape)\n",
        "print(x_test.shape, y_test.shape)"
      ]
    },
    {
      "cell_type": "markdown",
      "source": [
        "## Mô hình Phân lớp Adaboost"
      ],
      "metadata": {
        "id": "6hWx5pP7nWek"
      }
    },
    {
      "cell_type": "code",
      "source": [
        "model_Ada = AdaBoostClassifier(n_estimators=50, learning_rate=1, random_state=42)\n",
        "model_Ada.fit(x_train,y_train)\n",
        "y_pred = model_Ada.predict(x_test)\n",
        "print(\"Accuracy of Adaboost Classifier is {}%\".format(round(accuracy_score(y_pred,y_test)*100,2)))"
      ],
      "metadata": {
        "colab": {
          "base_uri": "https://localhost:8080/"
        },
        "id": "3n_mDA_0nXMc",
        "outputId": "7c18df3c-0563-4411-f92a-1ef0ec266524"
      },
      "execution_count": null,
      "outputs": [
        {
          "output_type": "stream",
          "name": "stdout",
          "text": [
            "Accuracy of Adaboost Classifier is 99.05%\n"
          ]
        }
      ]
    },
    {
      "cell_type": "code",
      "execution_count": null,
      "metadata": {
        "colab": {
          "base_uri": "https://localhost:8080/"
        },
        "id": "k7Od_TEOusXh",
        "outputId": "b63b9936-89cb-4d22-90df-248a5f32d80d"
      },
      "outputs": [
        {
          "output_type": "stream",
          "name": "stdout",
          "text": [
            "              precision    recall  f1-score   support\n",
            "\n",
            "           0       0.94      0.99      0.96        68\n",
            "           1       1.00      0.99      0.99       460\n",
            "\n",
            "    accuracy                           0.99       528\n",
            "   macro avg       0.97      0.99      0.98       528\n",
            "weighted avg       0.99      0.99      0.99       528\n",
            "\n"
          ]
        }
      ],
      "source": [
        "print(classification_report(y_test,y_pred))"
      ]
    },
    {
      "cell_type": "markdown",
      "source": [
        "### Ma trận nhầm lẫn của mô hình phân lớp Adaboost"
      ],
      "metadata": {
        "id": "G86jRT4tnipH"
      }
    },
    {
      "cell_type": "code",
      "execution_count": null,
      "metadata": {
        "colab": {
          "base_uri": "https://localhost:8080/",
          "height": 265
        },
        "id": "cRrj_dBKw-gN",
        "outputId": "fc54bcdb-c968-4052-fc68-2899cb7ae1eb"
      },
      "outputs": [
        {
          "output_type": "display_data",
          "data": {
            "text/plain": [
              "<Figure size 432x288 with 2 Axes>"
            ],
            "image/png": "[encoded data removed]"
          },
          "metadata": {
            "needs_background": "light"
          }
        }
      ],
      "source": [
        "cm = confusion_matrix(y_test, y_pred)\n",
        "\n",
        "\n",
        "cm_matrix = pd.DataFrame(data=cm, columns=['Actual Yes', 'Actual No'], \n",
        "                        index=['Predict Yes', 'Predict No'])\n",
        "sbn.heatmap(cm_matrix, annot=True, fmt='d', cmap='YlGnBu')\n",
        "plt.show()"
      ]
    },
    {
      "cell_type": "markdown",
      "source": [
        "### Thử nghiệm mô hình phân lớp Adaboost"
      ],
      "metadata": {
        "id": "JwHTd1K2nv6I"
      }
    },
    {
      "cell_type": "code",
      "execution_count": null,
      "metadata": {
        "colab": {
          "base_uri": "https://localhost:8080/"
        },
        "id": "66LnCIlfBchJ",
        "outputId": "d7714554-2285-4f06-96a7-80ad8db97197"
      },
      "outputs": [
        {
          "output_type": "stream",
          "name": "stdout",
          "text": [
            "Customer churn prediction:  Yes\n"
          ]
        }
      ],
      "source": [
        "text =\"\"\"\n",
        "Customer: Well, I've been looking at the service and it's still less than I thought it would be. It's terrible. I've been using Comcast for 11 years and I am very happy there. My only problem with their service is that it doesn't work very well for me and I'm looking for something that's a little better.\n",
        "TelCom Agent: Alright Jeremy, I can tell you that the service that we provide is focused on connecting you with the best Internet connection possible. Our service is now available in over 80 states so that you can get the most out of the Internet connections available. The Internet service we provide offers you fast, reliable and easy to use services that\n",
        "\"\"\"\n",
        "\n",
        "text_pre = [preprocess(text)] # xử lý văn bản\n",
        "\n",
        "vec = vectorizer.transform(text_pre) # chuyển sang vector\n",
        "\n",
        "\n",
        "\n",
        "print('Customer churn prediction: ','Yes' if model_Ada.predict(vec) == 0 else 'No')\n",
        "\n",
        "\n"
      ]
    },
    {
      "cell_type": "markdown",
      "source": [
        "## Mô hình Phân lớp Naive Bayes"
      ],
      "metadata": {
        "id": "bjyaQm7En00X"
      }
    },
    {
      "cell_type": "markdown",
      "source": [
        "### Kiểu mô hình BernoulliNB"
      ],
      "metadata": {
        "id": "GZDMB1ZEoC7V"
      }
    },
    {
      "cell_type": "code",
      "execution_count": null,
      "metadata": {
        "colab": {
          "base_uri": "https://localhost:8080/"
        },
        "id": "9km0NhgxxQ6P",
        "outputId": "5eb6cd87-9fdb-4648-a36c-60fe1d607e17"
      },
      "outputs": [
        {
          "output_type": "stream",
          "name": "stdout",
          "text": [
            "Accuracy of naive bayes BernoulliNB Classifier is 96.21%\n"
          ]
        }
      ],
      "source": [
        "model_Naive_BernoulliNB = BernoulliNB()\n",
        "model_Naive_BernoulliNB.fit(x_train,y_train)\n",
        "y_pred = model_Naive_BernoulliNB.predict(x_test)\n",
        "print(\"Accuracy of naive bayes BernoulliNB Classifier is {}%\".format(round(accuracy_score(y_pred,y_test)*100,2)))"
      ]
    },
    {
      "cell_type": "code",
      "execution_count": null,
      "metadata": {
        "colab": {
          "base_uri": "https://localhost:8080/"
        },
        "id": "cPUJPWNbskBM",
        "outputId": "9aec2f81-8461-42b5-eb0c-50d120b7d442"
      },
      "outputs": [
        {
          "output_type": "stream",
          "name": "stdout",
          "text": [
            "              precision    recall  f1-score   support\n",
            "\n",
            "           0       0.91      0.78      0.84        68\n",
            "           1       0.97      0.99      0.98       460\n",
            "\n",
            "    accuracy                           0.96       528\n",
            "   macro avg       0.94      0.88      0.91       528\n",
            "weighted avg       0.96      0.96      0.96       528\n",
            "\n"
          ]
        }
      ],
      "source": [
        "print(classification_report(y_test,y_pred))"
      ]
    },
    {
      "cell_type": "markdown",
      "source": [
        "#### Ma trận nhầm lẫn mô hình phân lớp Naive Bayes kiểu BernoulliNB"
      ],
      "metadata": {
        "id": "AP2Osiv3o1Yy"
      }
    },
    {
      "cell_type": "code",
      "execution_count": null,
      "metadata": {
        "colab": {
          "base_uri": "https://localhost:8080/",
          "height": 267
        },
        "id": "HJf0LYe9jzsx",
        "outputId": "7f8ce146-64bd-442a-e774-f852e2b01358"
      },
      "outputs": [
        {
          "output_type": "display_data",
          "data": {
            "text/plain": [
              "<Figure size 432x288 with 2 Axes>"
            ],
            "image/png": "[encoded data removed]"
          },
          "metadata": {
            "needs_background": "light"
          }
        }
      ],
      "source": [
        "cm = confusion_matrix(y_test, y_pred)\n",
        "\n",
        "\n",
        "cm_matrix = pd.DataFrame(data=cm, columns=['Actual Yes', 'Actual No'], \n",
        "                        index=['Predict Yes', 'Predict No'])\n",
        "sbn.heatmap(cm_matrix, annot=True, fmt='d', cmap='YlGnBu')\n",
        "plt.show()"
      ]
    },
    {
      "cell_type": "markdown",
      "source": [
        "#### Thử nghiệm mô hình phân lớp Naive Bayes kiểu BernoulliNB"
      ],
      "metadata": {
        "id": "I7rpvXCJpH7L"
      }
    },
    {
      "cell_type": "code",
      "execution_count": null,
      "metadata": {
        "colab": {
          "base_uri": "https://localhost:8080/"
        },
        "id": "dl8qzfxMpcsp",
        "outputId": "1adcab80-a5a6-4d2d-c415-f8af4995aef5"
      },
      "outputs": [
        {
          "output_type": "stream",
          "name": "stdout",
          "text": [
            "Customer churn prediction:  No\n"
          ]
        }
      ],
      "source": [
        "text =\"\"\"\n",
        "Customer: Let's see … I have the Verizon and Sprint plans. I'm very happy with both and would like to upgrade to the Verizon plan but my current Verizon plan doesn't include the iPhone yet.\n",
        "TelCom Agent: Sure thing Albert. How long would you be willing to wait for your iPhone to get here, and how much is that plan you have now?\n",
        "Customer: I'm willing to wait for as long as a month for my iPhone. I have the Verizon plan with unlimited data.\n",
        "TelCom Agent: Great. What is the total cost to upgrade to the iPhone? And can I change it to a different plan\n",
        "\"\"\"\n",
        "\n",
        "text_pre = [preprocess(text)] # xử lý văn bản\n",
        "\n",
        "vec = vectorizer.transform(text_pre) # chuyển sang vector\n",
        "\n",
        "\n",
        "print('Customer churn prediction: ','Yes' if model_Naive_BernoulliNB.predict(vec) == 0 else 'No')\n",
        "\n",
        "\n",
        "\n"
      ]
    },
    {
      "cell_type": "markdown",
      "source": [
        "### Kiểu mô hình GaussianNB"
      ],
      "metadata": {
        "id": "sQMLHJX_prSP"
      }
    },
    {
      "cell_type": "code",
      "execution_count": null,
      "metadata": {
        "id": "2sNFw5L4HL1f",
        "colab": {
          "base_uri": "https://localhost:8080/"
        },
        "outputId": "143bfea0-adce-4f9d-c32f-e1971666d082"
      },
      "outputs": [
        {
          "output_type": "stream",
          "name": "stdout",
          "text": [
            "Accuracy of naive bayes GaussianNB Classifier is 79.92%\n"
          ]
        }
      ],
      "source": [
        "model_Naive_GaussianNB = GaussianNB()\n",
        "model_Naive_GaussianNB.fit(x_train.toarray(),y_train)\n",
        "y_pred = model_Naive_GaussianNB.predict(x_test.toarray())\n",
        "print(\"Accuracy of naive bayes GaussianNB Classifier is {}%\".format(round(accuracy_score(y_pred,y_test)*100,2)))"
      ]
    },
    {
      "cell_type": "code",
      "source": [
        "print(classification_report(y_test,y_pred))"
      ],
      "metadata": {
        "id": "ygPXXvCAqHE1",
        "colab": {
          "base_uri": "https://localhost:8080/"
        },
        "outputId": "ffbf96b3-0990-424e-80cb-67b2faae4d95"
      },
      "execution_count": null,
      "outputs": [
        {
          "output_type": "stream",
          "name": "stdout",
          "text": [
            "              precision    recall  f1-score   support\n",
            "\n",
            "           0       0.26      0.31      0.28        68\n",
            "           1       0.90      0.87      0.88       460\n",
            "\n",
            "    accuracy                           0.80       528\n",
            "   macro avg       0.58      0.59      0.58       528\n",
            "weighted avg       0.81      0.80      0.81       528\n",
            "\n"
          ]
        }
      ]
    },
    {
      "cell_type": "markdown",
      "source": [
        "#### Ma trận nhầm lẫn mô hình phân lớp Naive Bayes kiểu GaussianNB"
      ],
      "metadata": {
        "id": "1MVaF-ZnqKf5"
      }
    },
    {
      "cell_type": "code",
      "source": [
        "cm = confusion_matrix(y_test, y_pred)\n",
        "\n",
        "\n",
        "cm_matrix = pd.DataFrame(data=cm, columns=['Actual Yes', 'Actual No'], \n",
        "                        index=['Predict Yes', 'Predict No'])\n",
        "sbn.heatmap(cm_matrix, annot=True, fmt='d', cmap='YlGnBu')\n",
        "plt.show()"
      ],
      "metadata": {
        "id": "o98lCsslqI9Q",
        "colab": {
          "base_uri": "https://localhost:8080/",
          "height": 269
        },
        "outputId": "1f6a0d6f-451b-44c1-ba24-111a68a76932"
      },
      "execution_count": null,
      "outputs": [
        {
          "output_type": "display_data",
          "data": {
            "text/plain": [
              "<Figure size 432x288 with 2 Axes>"
            ],
            "image/png": "[encoded data removed]"
          },
          "metadata": {
            "needs_background": "light"
          }
        }
      ]
    },
    {
      "cell_type": "markdown",
      "source": [
        "#### Thử nghiệm mô hình phân lớp Naive Bayes kiểu GaussianNB"
      ],
      "metadata": {
        "id": "JREJnsU8qT9C"
      }
    },
    {
      "cell_type": "code",
      "source": [
        "text =\"\"\"\n",
        "Customer: Let's see … I have the Verizon and Sprint plans. I'm very happy with both and would like to upgrade to the Verizon plan but my current Verizon plan doesn't include the iPhone yet.\n",
        "TelCom Agent: Sure thing Albert. How long would you be willing to wait for your iPhone to get here, and how much is that plan you have now?\n",
        "Customer: I'm willing to wait for as long as a month for my iPhone. I have the Verizon plan with unlimited data.\n",
        "TelCom Agent: Great. What is the total cost to upgrade to the iPhone? And can I change it to a different plan\n",
        "\"\"\"\n",
        "\n",
        "text_pre = [preprocess(text)] # xử lý văn bản\n",
        "\n",
        "vec = vectorizer.transform(text_pre) # chuyển sang vector\n",
        "\n",
        "\n",
        "print('Customer churn prediction: ','Yes' if model_Naive_GaussianNB.predict(vec.toarray()) == 0 else 'No')\n",
        "\n"
      ],
      "metadata": {
        "id": "b72udK5PqYtd",
        "colab": {
          "base_uri": "https://localhost:8080/"
        },
        "outputId": "32b8ff36-303f-4bd6-dbc9-911b974ef69d"
      },
      "execution_count": null,
      "outputs": [
        {
          "output_type": "stream",
          "name": "stdout",
          "text": [
            "Customer churn prediction:  No\n"
          ]
        }
      ]
    },
    {
      "cell_type": "markdown",
      "source": [
        "### Kiểu mô hình MultinomialNB"
      ],
      "metadata": {
        "id": "qoR5LRVyrK13"
      }
    },
    {
      "cell_type": "code",
      "source": [
        "model_Naive_MultinomialNB = MultinomialNB()\n",
        "model_Naive_MultinomialNB.fit(x_train,y_train)\n",
        "y_pred = model_Naive_MultinomialNB.predict(x_test)\n",
        "print(\"Accuracy of naive bayes MultinomialNB Classifier is {}%\".format(round(accuracy_score(y_pred,y_test)*100,2)))"
      ],
      "metadata": {
        "id": "qfEMRYEUraIT",
        "colab": {
          "base_uri": "https://localhost:8080/"
        },
        "outputId": "a11e1051-ccf5-437d-8c61-d34f1dddea11"
      },
      "execution_count": null,
      "outputs": [
        {
          "output_type": "stream",
          "name": "stdout",
          "text": [
            "Accuracy of naive bayes MultinomialNB Classifier is 87.12%\n"
          ]
        }
      ]
    },
    {
      "cell_type": "code",
      "source": [
        "print(classification_report(y_test,y_pred))"
      ],
      "metadata": {
        "id": "zw6qt4jjsWTn",
        "colab": {
          "base_uri": "https://localhost:8080/"
        },
        "outputId": "055413cc-cfdc-4b57-feaf-868d9d3da685"
      },
      "execution_count": null,
      "outputs": [
        {
          "output_type": "stream",
          "name": "stdout",
          "text": [
            "              precision    recall  f1-score   support\n",
            "\n",
            "           0       0.00      0.00      0.00        68\n",
            "           1       0.87      1.00      0.93       460\n",
            "\n",
            "    accuracy                           0.87       528\n",
            "   macro avg       0.44      0.50      0.47       528\n",
            "weighted avg       0.76      0.87      0.81       528\n",
            "\n"
          ]
        }
      ]
    },
    {
      "cell_type": "markdown",
      "source": [
        "#### Ma trận nhầm lẫn mô hình phân lớp Naive Bayes kiểu MultinomialNB"
      ],
      "metadata": {
        "id": "yttkz_fRsbr1"
      }
    },
    {
      "cell_type": "code",
      "source": [
        "cm = confusion_matrix(y_test, y_pred)\n",
        "\n",
        "\n",
        "cm_matrix = pd.DataFrame(data=cm, columns=['Actual Yes', 'Actual No'], \n",
        "                        index=['Predict Yes', 'Predict No'])\n",
        "sbn.heatmap(cm_matrix, annot=True, fmt='d', cmap='YlGnBu')\n",
        "plt.show()"
      ],
      "metadata": {
        "id": "15WBupkNsZSm",
        "colab": {
          "base_uri": "https://localhost:8080/",
          "height": 265
        },
        "outputId": "51a6dcff-7243-4b2c-f9ce-b42fc57eb3bb"
      },
      "execution_count": null,
      "outputs": [
        {
          "output_type": "display_data",
          "data": {
            "text/plain": [
              "<Figure size 432x288 with 2 Axes>"
            ],
            "image/png": "[encoded data removed]"
          },
          "metadata": {
            "needs_background": "light"
          }
        }
      ]
    },
    {
      "cell_type": "markdown",
      "source": [
        "#### Thử nghiệm mô hình phân lớp Naive Bayes kiểu MultinomialNB"
      ],
      "metadata": {
        "id": "sMm0eGuqsg8p"
      }
    },
    {
      "cell_type": "code",
      "source": [
        "text =\"\"\"\n",
        "Customer: Let's see … I have the Verizon and Sprint plans. I'm very happy with both and would like to upgrade to the Verizon plan but my current Verizon plan doesn't include the iPhone yet.\n",
        "TelCom Agent: Sure thing Albert. How long would you be willing to wait for your iPhone to get here, and how much is that plan you have now?\n",
        "Customer: I'm willing to wait for as long as a month for my iPhone. I have the Verizon plan with unlimited data.\n",
        "TelCom Agent: Great. What is the total cost to upgrade to the iPhone? And can I change it to a different plan\n",
        "\"\"\"\n",
        "\n",
        "text_pre = [preprocess(text)] # xử lý văn bản\n",
        "\n",
        "vec = vectorizer.transform(text_pre) # chuyển sang vector\n",
        "\n",
        "\n",
        "print('Customer churn prediction: ','Yes' if model_Naive_MultinomialNB.predict(vec) == 0 else 'No')"
      ],
      "metadata": {
        "id": "2RDzArnDskNS",
        "colab": {
          "base_uri": "https://localhost:8080/"
        },
        "outputId": "f74972e8-e2b3-4fc3-e22c-5baadb3b50d2"
      },
      "execution_count": null,
      "outputs": [
        {
          "output_type": "stream",
          "name": "stdout",
          "text": [
            "Customer churn prediction:  No\n"
          ]
        }
      ]
    }
  ],
  "metadata": {
    "colab": {
      "provenance": [],
      "collapsed_sections": [
        "NVY7zRnTl7Cm"
      ]
    },
    "kernelspec": {
      "display_name": "Python 3",
      "name": "python3"
    }
  },
  "nbformat": 4,
  "nbformat_minor": 0
}